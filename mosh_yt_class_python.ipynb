{
 "cells": [
  {
   "cell_type": "code",
   "execution_count": 1,
   "metadata": {},
   "outputs": [],
   "source": [
    "#Mosh python yt"
   ]
  },
  {
   "cell_type": "code",
   "execution_count": 10,
   "metadata": {},
   "outputs": [
    {
     "name": "stdout",
     "output_type": "stream",
     "text": [
      "5\n",
      "3\n"
     ]
    }
   ],
   "source": [
    "#classes\n",
    "class Point:\n",
    "    def move(self):\n",
    "        print(\"move\")\n",
    "    def draw(self):\n",
    "        print(\"draw\")\n",
    "        \n",
    "point1 = Point() #ob\n",
    "point1.x = 5  #attributes of point1\n",
    "point1.y = 10\n",
    "point1.draw\n",
    "print(point1.x)\n",
    "\n",
    "point2 = Point() #2nd ob\n",
    "point2.e = 3   #note attributes are different for different ob\n",
    "print(point2.e)"
   ]
  },
  {
   "cell_type": "code",
   "execution_count": 11,
   "metadata": {},
   "outputs": [
    {
     "name": "stdout",
     "output_type": "stream",
     "text": [
      "10\n",
      "15\n"
     ]
    }
   ],
   "source": [
    "#Constructors\n",
    "class Point:\n",
    "    def __init__(self, x, y):\n",
    "        self.x = x\n",
    "        self.y = y\n",
    "        \n",
    "point = Point(10, 20)\n",
    "print(point.x)\n",
    "point.x = 15\n",
    "print(point.x)"
   ]
  },
  {
   "cell_type": "code",
   "execution_count": 15,
   "metadata": {},
   "outputs": [
    {
     "name": "stdout",
     "output_type": "stream",
     "text": [
      "mosh\n",
      "Hi, I am mosh\n",
      "talking\n"
     ]
    }
   ],
   "source": [
    "#exercise\n",
    "class Person:\n",
    "    def __init__(self, name):\n",
    "        self.name = name\n",
    "    def talk(self):\n",
    "        print(f\"Hi, I am {self.name}\")\n",
    "        print(\"talking\")\n",
    "        \n",
    "person = Person(\"mosh\")\n",
    "print(person.name)\n",
    "person.talk()"
   ]
  },
  {
   "cell_type": "code",
   "execution_count": 17,
   "metadata": {},
   "outputs": [
    {
     "name": "stdout",
     "output_type": "stream",
     "text": [
      "walk\n",
      "bark\n",
      "walk\n",
      "annoy\n"
     ]
    }
   ],
   "source": [
    "#inheritance\n",
    "class Mammals:\n",
    "    def walk(self):\n",
    "        print(\"walk\")\n",
    "\n",
    "class Dog(Mammals):\n",
    "    def bark(self):\n",
    "        print(\"bark\")\n",
    "        \n",
    "class Cat(Mammals):\n",
    "    def annoying(self):\n",
    "        print(\"annoy\")\n",
    "        \n",
    "dog = Dog()\n",
    "dog.walk()\n",
    "dog.bark()\n",
    "cat = Cat()\n",
    "cat.walk()\n",
    "cat.annoying()"
   ]
  },
  {
   "cell_type": "code",
   "execution_count": null,
   "metadata": {},
   "outputs": [],
   "source": []
  }
 ],
 "metadata": {
  "kernelspec": {
   "display_name": "Python 3",
   "language": "python",
   "name": "python3"
  },
  "language_info": {
   "codemirror_mode": {
    "name": "ipython",
    "version": 3
   },
   "file_extension": ".py",
   "mimetype": "text/x-python",
   "name": "python",
   "nbconvert_exporter": "python",
   "pygments_lexer": "ipython3",
   "version": "3.7.6"
  }
 },
 "nbformat": 4,
 "nbformat_minor": 4
}
