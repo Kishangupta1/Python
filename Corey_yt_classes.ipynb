{
 "cells": [
  {
   "cell_type": "code",
   "execution_count": 48,
   "metadata": {},
   "outputs": [
    {
     "name": "stdout",
     "output_type": "stream",
     "text": [
      "0\n",
      "1\n",
      "corey schaffer\n"
     ]
    }
   ],
   "source": [
    "class Employee:\n",
    "    no_employee = 0\n",
    "    raise_amount = 1.05  #class variable\n",
    "    \n",
    "    def __init__(self, first, last, pay): #take instance as 1st arg\n",
    "        self.first = first\n",
    "        self.last = last\n",
    "        self.pay = pay\n",
    "        self.email = first + \".\" + last + \"@company.com\"\n",
    "        Employee.no_employee += 1\n",
    "        \n",
    "    def fullname(self):  #take instance as arg\n",
    "        return \"{} {}\" .format(self.first, self.last)\n",
    "    \n",
    "    def appraisal(self):  #take instance as 1st arg\n",
    "        self.pay = int(self.pay * self.raise_amount)\n",
    "        \n",
    "    @classmethod\n",
    "    def set_raise_amt(cls, amt): #take class as 1st arg\n",
    "        cls.raise_amount = amt\n",
    "        \n",
    "    @classmethod\n",
    "    def from_string(cls, emp_str):\n",
    "        first, last, pay = emp_str.split('-')\n",
    "        return cls(first, last, pay)\n",
    "    \n",
    "    @staticmethod  #doesnot take any arg\n",
    "    def is_week_day(day):\n",
    "        if day.weekday() == 5 or day.weekday() == 6:\n",
    "            return False\n",
    "        else:\n",
    "            return True\n",
    "\n",
    "print(Employee.no_employee)\n",
    "emp1 = Employee(\"corey\", \"schaffer\", 10000)\n",
    "print(Employee.no_employee)\n",
    "print(emp1.fullname())"
   ]
  },
  {
   "cell_type": "code",
   "execution_count": 29,
   "metadata": {},
   "outputs": [
    {
     "name": "stdout",
     "output_type": "stream",
     "text": [
      "10000\n",
      "10500\n"
     ]
    }
   ],
   "source": [
    "print(emp1.pay)\n",
    "emp1.appraisal()\n",
    "print(emp1.pay)"
   ]
  },
  {
   "cell_type": "code",
   "execution_count": 23,
   "metadata": {},
   "outputs": [
    {
     "name": "stdout",
     "output_type": "stream",
     "text": [
      "{'__module__': '__main__', 'no_employee': 1, 'raise_amount': 1.05, '__init__': <function Employee.__init__ at 0x7fbbc83e47a0>, 'fullname': <function Employee.fullname at 0x7fbbc83e4b90>, 'appraisal': <function Employee.appraisal at 0x7fbbc83e4710>, '__dict__': <attribute '__dict__' of 'Employee' objects>, '__weakref__': <attribute '__weakref__' of 'Employee' objects>, '__doc__': None}\n",
      "{'first': 'corey', 'last': 'schaffer', 'pay': 10500, 'email': 'corey.schaffer@company.com'}\n"
     ]
    }
   ],
   "source": [
    "print(Employee.__dict__) #attributes of class\n",
    "print(emp1.__dict__) #attributes and methods of instance"
   ]
  },
  {
   "cell_type": "code",
   "execution_count": 24,
   "metadata": {},
   "outputs": [
    {
     "name": "stdout",
     "output_type": "stream",
     "text": [
      "{'first': 'corey', 'last': 'schaffer', 'pay': 10500, 'email': 'corey.schaffer@company.com', 'appraisal': 1.1}\n"
     ]
    }
   ],
   "source": [
    "Employee.appraisal = 1.04 #apply to all instances  ##class variable\n",
    "emp1.appraisal = 1.1 #apply to just emp1 instance  ##instance variable\n",
    "print(emp1.__dict__) #note now appraisal is method in emp1"
   ]
  },
  {
   "cell_type": "code",
   "execution_count": 32,
   "metadata": {},
   "outputs": [
    {
     "name": "stdout",
     "output_type": "stream",
     "text": [
      "1.2\n",
      "1.5\n"
     ]
    }
   ],
   "source": [
    "#class method\n",
    "Employee.set_raise_amt(1.2)\n",
    "print(emp1.raise_amount)\n",
    "emp1.set_raise_amt(1.5)  #notice it changes class variable coz of class method\n",
    "print(Employee.raise_amount)"
   ]
  },
  {
   "cell_type": "code",
   "execution_count": 43,
   "metadata": {},
   "outputs": [
    {
     "name": "stdout",
     "output_type": "stream",
     "text": [
      "10000\n"
     ]
    }
   ],
   "source": [
    "#class method\n",
    "emp1_str = 'john-wick-50000'\n",
    "Employee.from_string(emp1_str)\n",
    "print(emp1.pay)"
   ]
  },
  {
   "cell_type": "code",
   "execution_count": 51,
   "metadata": {},
   "outputs": [
    {
     "name": "stdout",
     "output_type": "stream",
     "text": [
      "False\n"
     ]
    }
   ],
   "source": [
    "#static method\n",
    "import datetime\n",
    "my_date = datetime.date(2021, 10, 16)\n",
    "print(Employee.is_week_day(my_date))"
   ]
  },
  {
   "cell_type": "code",
   "execution_count": 61,
   "metadata": {},
   "outputs": [
    {
     "name": "stdout",
     "output_type": "stream",
     "text": [
      "50000\n",
      "55000\n",
      "Corey.Schafer@company.com\n",
      "python\n"
     ]
    }
   ],
   "source": [
    "#inheritance\n",
    "class Developer(Employee):\n",
    "    raise_amount = 1.1  #change just for developer\n",
    "    \n",
    "    def __init__(self, first, last, pay, prog_lang):\n",
    "        super().__init__(first, last, pay)  # syntax: Employee.__init__(self, first, last, pay)\n",
    "                                    #initalize using Employee class\n",
    "        self.prog_lang = prog_lang\n",
    "    \n",
    "dev1 = Developer('Corey', 'Schafer', 50000, 'python')\n",
    "dev2 = Developer('john', 'fer', 60000, 'cpp')\n",
    "\n",
    "print(dev1.pay)\n",
    "dev1.appraisal()\n",
    "print(dev1.pay)\n",
    "\n",
    "print(dev1.email)\n",
    "print(dev1.prog_lang)"
   ]
  },
  {
   "cell_type": "code",
   "execution_count": 63,
   "metadata": {},
   "outputs": [],
   "source": [
    "#print(help(dev1))  #info about inheritance class"
   ]
  },
  {
   "cell_type": "code",
   "execution_count": 78,
   "metadata": {},
   "outputs": [
    {
     "name": "stdout",
     "output_type": "stream",
     "text": [
      "Sue.Smith@company.com\n",
      "---> Corey Schafer\n",
      "---> Corey Schafer\n",
      "---> john fer\n",
      "---> Corey Schafer\n",
      "---> john fer\n",
      "None\n"
     ]
    }
   ],
   "source": [
    "#inheritance\n",
    "#inheritance\n",
    "class Manager(Employee):\n",
    "    def __init__(self, first, last, pay, employees=None):\n",
    "        super().__init__(first, last, pay)  # syntax: Employee.__init__(self, first, last, pay)\n",
    "                                    #initalize using Employee class\n",
    "        if employees is None:\n",
    "            self.employees = []\n",
    "        else:\n",
    "            self.employees = employees\n",
    "            \n",
    "    def add_emp(self, emp):\n",
    "        if emp not in self.employees:\n",
    "            self.employees.append(emp)\n",
    "    \n",
    "    def remove_emp(self, emp):\n",
    "        if emp in self.employees:\n",
    "            self.employees.remove(emp)\n",
    "            \n",
    "    def print_emp(self):\n",
    "        for emp in self.employees:\n",
    "            print('--->', emp.fullname())\n",
    "    \n",
    "dev_1 = Developer('Corey', 'Schafer', 50000, 'python')\n",
    "dev_2 = Developer('john', 'fer', 60000, 'cpp')\n",
    "\n",
    "mgr_1 = Manager('Sue', 'Smith', 90000, [dev_1])\n",
    "print(mgr_1.email)\n",
    "mgr_1.print_emp()\n",
    "mgr_1.add_emp(dev_2)\n",
    "mgr_1.print_emp()\n",
    "mgr_1.remove_emp(dev1)\n",
    "print(mgr_1.print_emp())"
   ]
  },
  {
   "cell_type": "code",
   "execution_count": 80,
   "metadata": {},
   "outputs": [
    {
     "name": "stdout",
     "output_type": "stream",
     "text": [
      "True\n",
      "False\n",
      "True\n"
     ]
    }
   ],
   "source": [
    "#builtin fn\n",
    "print(isinstance(mgr_1, Employee))\n",
    "print(isinstance(mgr_1, Developer))\n",
    "print(isinstance(mgr_1, Manager))"
   ]
  },
  {
   "cell_type": "code",
   "execution_count": 81,
   "metadata": {},
   "outputs": [
    {
     "name": "stdout",
     "output_type": "stream",
     "text": [
      "True\n",
      "False\n",
      "True\n"
     ]
    }
   ],
   "source": [
    "print(issubclass(Developer, Employee))\n",
    "print(issubclass(Developer, Manager))\n",
    "print(issubclass(Manager, Employee))"
   ]
  },
  {
   "cell_type": "code",
   "execution_count": null,
   "metadata": {},
   "outputs": [],
   "source": []
  }
 ],
 "metadata": {
  "kernelspec": {
   "display_name": "Python 3",
   "language": "python",
   "name": "python3"
  },
  "language_info": {
   "codemirror_mode": {
    "name": "ipython",
    "version": 3
   },
   "file_extension": ".py",
   "mimetype": "text/x-python",
   "name": "python",
   "nbconvert_exporter": "python",
   "pygments_lexer": "ipython3",
   "version": "3.7.6"
  }
 },
 "nbformat": 4,
 "nbformat_minor": 4
}
